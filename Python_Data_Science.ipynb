{
  "nbformat": 4,
  "nbformat_minor": 0,
  "metadata": {
    "colab": {
      "provenance": [],
      "include_colab_link": true
    },
    "kernelspec": {
      "name": "python3",
      "display_name": "Python 3"
    },
    "language_info": {
      "name": "python"
    }
  },
  "cells": [
    {
      "cell_type": "markdown",
      "metadata": {
        "id": "view-in-github",
        "colab_type": "text"
      },
      "source": [
        "<a href=\"https://colab.research.google.com/github/seiler18/OracleAluraPython/blob/main/Python_Data_Science.ipynb\" target=\"_parent\"><img src=\"https://colab.research.google.com/assets/colab-badge.svg\" alt=\"Open In Colab\"/></a>"
      ]
    },
    {
      "cell_type": "markdown",
      "source": [
        "# Python para Data Science\n",
        "\n",
        "Notebook para el curso de Python para Data Science publicado en la plataforma de [Alura Latam](https://www.aluracursos.com/)"
      ],
      "metadata": {
        "id": "lQx6Mmv0OJyT"
      }
    },
    {
      "cell_type": "markdown",
      "source": [
        "# Introducción a Python\n",
        "¡Vamos a conocer Python, nuestro ambiente de estudio, y también generaremos nuestro primer código en este lenguaje!"
      ],
      "metadata": {
        "id": "7SiB6JIpYKmY"
      }
    },
    {
      "cell_type": "markdown",
      "source": [
        "## Google Colaboratory\n",
        "\n",
        "Ya aprendimos qué es [Python](https://www.python.org/) y ahora aprenderemos a usar nuestra herramienta de ejecución [Google Colaboratory](https://colab.research.google.com/) para programar en un notebook interactivo.\n",
        "\n",
        "Vamos a probar algunas funciones de este ambiente."
      ],
      "metadata": {
        "id": "Yugfb3fCOYY9"
      }
    },
    {
      "cell_type": "markdown",
      "source": [
        "## ¡Hola mundo!\n",
        "\n",
        "Vamos a conocer un poco más de cerca nuestro notebook. Para ello ejecutaremos nuestro primer comando en Python: [`print()`](https://docs.python.org/3/library/functions.html#print)"
      ],
      "metadata": {
        "id": "aLSFP2V7XTfe"
      }
    },
    {
      "cell_type": "markdown",
      "source": [
        "# Manipulando los datos\n",
        "\n",
        "Vamos a aprender sobre las variables en Python, cómo declararlas y utilizarlas además de conocer otros comandos de este lenguaje. :D"
      ],
      "metadata": {
        "id": "iP8uWQmFYFRs"
      }
    },
    {
      "cell_type": "markdown",
      "source": [
        "## Variables\n",
        "\n",
        "En Data Science trabajamos con varios tipos de datos e informaciones, entonces es esencial saber cómo trabajar con las variables."
      ],
      "metadata": {
        "id": "sLNVmnTbag1Z"
      }
    },
    {
      "cell_type": "markdown",
      "source": [
        "Las variables en Python se crean cuando atribuimos un valor a ella.\n",
        "\n",
        "Para esto, colocamos el nombre de la variable, el signo de igual (`=`) y el valor que queremos atribuirle."
      ],
      "metadata": {
        "id": "lsCY0wahAbf6"
      }
    },
    {
      "cell_type": "code",
      "source": [],
      "metadata": {
        "id": "vsHh5buZADND"
      },
      "execution_count": null,
      "outputs": []
    },
    {
      "cell_type": "code",
      "source": [],
      "metadata": {
        "id": "sivPtqSjADQV"
      },
      "execution_count": null,
      "outputs": []
    },
    {
      "cell_type": "code",
      "source": [],
      "metadata": {
        "id": "JC8jO47wADlm"
      },
      "execution_count": null,
      "outputs": []
    },
    {
      "cell_type": "markdown",
      "source": [
        "Existen algunos tipos de nomes que **no** podemos definir para las variables:\n",
        "\n",
        "- **Nombres que comiencen con números**\n",
        "  - Ejemplos: `10_notas`, `2_nombre_casa`, etc.\n",
        "- **Palabras separadas por espacio**\n",
        "  - Ejemplos: `Nombre escuela`, `notas estudiantes`, etc.\n",
        "- **Nombres de funciones de Python**\n",
        "  - Ejemplos: `print`, `type`, etc."
      ],
      "metadata": {
        "id": "om2N0jHKAzwL"
      }
    },
    {
      "cell_type": "markdown",
      "source": [
        "> Las letras mayúsculas y minúsculas generarán diferentes variables. La variable `edad` es diferente de `Edad` que a su vez es diferente de `EDAD`:\n",
        "``` Python\n",
        "edad = 1\n",
        "Edad = 2\n",
        "EDAD = 3\n",
        "_edad = 4\n",
        "_edad_ = 5\n",
        "print(edad, Edad, EDAD, _edad, _edad_)\n",
        "1 2 3 4 5\n",
        "```"
      ],
      "metadata": {
        "id": "A19vY2GVMujB"
      }
    },
    {
      "cell_type": "markdown",
      "source": [
        "## Tipos de variables\n",
        "\n",
        "Cada variable contiene una clase específica con respecto al tipo de objeto al cual esta hace referencia. Estas clases serán diferentes de acuerdo con el tipo de dato que le sea atribuido a una variable.\n",
        "\n",
        "Para conocer la clase de cada elemento usamos la función [`type()`](https://docs.python.org/3/library/functions.html#type)"
      ],
      "metadata": {
        "id": "UqhzuBhBHsps"
      }
    },
    {
      "cell_type": "code",
      "source": [],
      "metadata": {
        "id": "J5a9t73A_-PX"
      },
      "execution_count": null,
      "outputs": []
    },
    {
      "cell_type": "code",
      "source": [],
      "metadata": {
        "id": "rqmO1ew-_-So"
      },
      "execution_count": null,
      "outputs": []
    },
    {
      "cell_type": "code",
      "source": [],
      "metadata": {
        "id": "xkrPMkeY_-cP"
      },
      "execution_count": null,
      "outputs": []
    },
    {
      "cell_type": "markdown",
      "source": [
        "En un conjunto de datos escolares podemos tener varios tipos de informaciones. Supongamos que tenemos acceso a la ficha de datos del alumno *Penélope Camacho*, cómo transformamos este nombre en variables de Python?\n",
        "\n",
        "#### Ficha:\n",
        "\n",
        "- Nombre: Penélope Camacho\n",
        "- Edad: 11 años\n",
        "- Promedio del semestre: 9,75\n",
        "- Situación de aprobación: Verdadera (aprobado)"
      ],
      "metadata": {
        "id": "O-FxDumfWu0C"
      }
    },
    {
      "cell_type": "code",
      "source": [],
      "metadata": {
        "id": "FabQ7jQf_8Xt"
      },
      "execution_count": null,
      "outputs": []
    },
    {
      "cell_type": "code",
      "source": [],
      "metadata": {
        "id": "IZLQnZUj_8bd"
      },
      "execution_count": null,
      "outputs": []
    },
    {
      "cell_type": "markdown",
      "source": [
        "## Variables numéricas\n",
        "\n",
        "Entre los tipos de datos numéricos vamos a enfocarnos en los tipos `entero` y `float`."
      ],
      "metadata": {
        "id": "KFq_8Sxf-OG0"
      }
    },
    {
      "cell_type": "markdown",
      "source": [
        "Tenemos una tabla de información sobre los diversos cargos, cantidad de personas empleadas y el salario correspondiente:\n",
        "\n",
        "|Cargo | Cantidad | Salario|\n",
        "|---|---|---|\n",
        "|Vigilante | 5 | 300 |\n",
        "|Docente | 16| 500|\n",
        "|Coordinador| 2 |600|\n",
        "\n",
        "Necesitamos trabajar con estos datos para obtener:\n",
        "\n",
        "- La cantidad total de empleados;\n",
        "- La diferencia entre el salario más bajo y más alto; y\n",
        "- El promedio ponderado de los salarios de los empleados de la escuela."
      ],
      "metadata": {
        "id": "8_HYUbkVYdQY"
      }
    },
    {
      "cell_type": "code",
      "source": [],
      "metadata": {
        "id": "F_X-wxdm_5Ys"
      },
      "execution_count": null,
      "outputs": []
    },
    {
      "cell_type": "code",
      "source": [],
      "metadata": {
        "id": "gKmBbhII_5b9"
      },
      "execution_count": null,
      "outputs": []
    },
    {
      "cell_type": "code",
      "source": [],
      "metadata": {
        "id": "fIugsxNy_53j"
      },
      "execution_count": null,
      "outputs": []
    },
    {
      "cell_type": "markdown",
      "source": [
        "## Strings"
      ],
      "metadata": {
        "id": "yQy7b0ZWoD-P"
      }
    },
    {
      "cell_type": "markdown",
      "source": [
        "Strings hace referencia a un conjunto de caracteres formando un texto.\n",
        "\n",
        "Podemos crear Strings cuando atribuimos un dato a una variable entre comillas sencillas (`'`) o comillas dobles (`\"`)."
      ],
      "metadata": {
        "id": "vlo2-DXusv3s"
      }
    },
    {
      "cell_type": "code",
      "source": [],
      "metadata": {
        "id": "ityEWqvh_2wK"
      },
      "execution_count": null,
      "outputs": []
    },
    {
      "cell_type": "markdown",
      "source": [
        "Las variables textuales son objetos que poseen métodos que nos ayudan a formatear strings. Los métodos los podemos ejecutar al definir un objeto de acuerdo con la siguiente estructura:\n",
        "\n",
        "```\n",
        "objeto.metodo()\n",
        "```\n",
        "\n",
        "Existen métodos que no necesitan los `()`, siempre es una buena práctica verificar la documentación para cada caso."
      ],
      "metadata": {
        "id": "2e9UD_CCxqz_"
      }
    },
    {
      "cell_type": "markdown",
      "source": [
        "---\n",
        "**Situación:**\n",
        "\n",
        "Recibimos una variable con el nombre de una profesora de la escuela para añadirla a los registros. Sin embargo, necesitamos darle un tratamiento a este texto antes de insertarlo al sistema."
      ],
      "metadata": {
        "id": "p6aPmMGP4tf9"
      }
    },
    {
      "cell_type": "code",
      "source": [
        "texto = '  Micaela de los Sanyos '"
      ],
      "metadata": {
        "id": "icDWtYTjBO0n"
      },
      "execution_count": null,
      "outputs": []
    },
    {
      "cell_type": "markdown",
      "source": [
        "El objetivo final es que el nombre aparezca de la siguiente forma:\n",
        "\n",
        "```\n",
        "'MICAELA DE LOS SANTOS'\n",
        "```"
      ],
      "metadata": {
        "id": "Dg2ZXSZOGzjC"
      }
    },
    {
      "cell_type": "markdown",
      "source": [
        "### [`str.upper()` ](https://docs.python.org/3/library/stdtypes.html#str.upper)\n",
        "Convierte una string a mayúsculas."
      ],
      "metadata": {
        "id": "iVTAD8q702eN"
      }
    },
    {
      "cell_type": "markdown",
      "source": [
        "### [`str.lower()` ](https://docs.python.org/3/library/stdtypes.html#str.lower)\n",
        "Convierte una string a minúsculas."
      ],
      "metadata": {
        "id": "hbDSBtMV1TpG"
      }
    },
    {
      "cell_type": "markdown",
      "source": [
        "### [`str.strip()`](https://docs.python.org/3/library/stdtypes.html#str.strip)\n",
        "Elimina los espacios en blanco al inicio y al final de una string."
      ],
      "metadata": {
        "id": "kz47eWM11gii"
      }
    },
    {
      "cell_type": "markdown",
      "source": [
        "### [`str.replace(antiguo, nuevo)`](https://docs.python.org/3/library/stdtypes.html#str.replace)\n",
        "\n",
        "Sustituye todas las ocurrencias del texto \"antiguo\" en la string por el  \"nuevo\"."
      ],
      "metadata": {
        "id": "m6notiyS1SCV"
      }
    },
    {
      "cell_type": "markdown",
      "source": [
        "### Ejemplos aplicados"
      ],
      "metadata": {
        "id": "abu31pTUZPtu"
      }
    },
    {
      "cell_type": "code",
      "source": [
        "textoUper = '  Micaela de los Sanyos '\n",
        "textoLower = '  Micaela de los Sanyos '\n",
        "textoStrip = '  Micaela de los Sanyos '\n",
        "textoReplace = '  Micaela de los Sanyos '\n",
        "\n",
        "print(textoUper.upper())\n",
        "print(textoLower.lower())\n",
        "print(textoStrip.strip())\n",
        "print(textoReplace.replace('y','t'))"
      ],
      "metadata": {
        "id": "wMVshJrY_ZXh",
        "outputId": "acea7694-c66b-4478-f65f-eccfe7b62059",
        "colab": {
          "base_uri": "https://localhost:8080/"
        }
      },
      "execution_count": null,
      "outputs": [
        {
          "output_type": "stream",
          "name": "stdout",
          "text": [
            "  MICAELA DE LOS SANYOS \n",
            "  micaela de los sanyos \n",
            "Micaela de los Sanyos\n",
            "  Micaela de los Santos \n"
          ]
        }
      ]
    },
    {
      "cell_type": "markdown",
      "source": [
        "### Observaciones\n",
        "\n",
        "1. Los métodos devuelven una **tranformación**, no son ejecutados directamente sobre la variable donde está almacenado el texto.\n",
        "\n",
        "2. Adicionalmente, podemos acumular la ejecución de los métodos."
      ],
      "metadata": {
        "id": "zukvEjhG2Rcn"
      }
    },
    {
      "cell_type": "markdown",
      "source": [
        "Para que la transformación se pueda ejecutar debemos atribuir la salida de las transformaciones a las variables"
      ],
      "metadata": {
        "id": "1KbwfVut2h6I"
      }
    },
    {
      "cell_type": "code",
      "source": [],
      "metadata": {
        "id": "ocPP-Jaj_SJI"
      },
      "execution_count": null,
      "outputs": []
    },
    {
      "cell_type": "code",
      "source": [],
      "metadata": {
        "id": "m1RvLGZZ_SP3"
      },
      "execution_count": null,
      "outputs": []
    },
    {
      "cell_type": "markdown",
      "source": [
        "## Capturando datos\n",
        "\n",
        "En algunas aplicaciones necesitamos capturar los valores del usuario de nuestro proyecto. En python, logramos capturar los datos del usuario a través del comando [`input()`](https://docs.python.org/3/library/functions.html#input).\n",
        "\n",
        "Para ejecutar la captura debemos atribuir el resultado de esta función a una variable."
      ],
      "metadata": {
        "id": "0h9Fh5G9kHCa"
      }
    },
    {
      "cell_type": "markdown",
      "source": [
        "La salida de este comando siempre será una *string*. Esto quiere decir que aunque capturemos un valor de variable numérica, este será de tipo string.\n",
        "\n",
        "Entonces, será necesario **convertir el resultado cuando no se desea utilizar el valor como tipo string**."
      ],
      "metadata": {
        "id": "7z7hcLCk_aCY"
      }
    },
    {
      "cell_type": "markdown",
      "source": [
        "Existen funciones para la conversión de valores:\n",
        "\n",
        "- Enteros: [`int(dato_para_conversion)`](https://docs.python.org/3/library/functions.html#int)\n",
        "- Coma flotante: [`float(dato_para_conversion)`](https://docs.python.org/3/library/functions.html#float)\n",
        "- String: [`str(dato_para_conversion)`](https://docs.python.org/3/library/functions.html#func-str)\n",
        "- Booleano: [`bool(dato_para_conversion)`](https://docs.python.org/3/library/functions.html#bool)"
      ],
      "metadata": {
        "id": "TOlegATj1Jfp"
      }
    },
    {
      "cell_type": "markdown",
      "source": [
        "Trataremos de representar mejor ahora el resultado de la transformación que obtuvimos. Nosotros podemos formatear y presentar nuestro resultado mezclando strings con valores no textuales.\n",
        "\n",
        "Para ello utilizamos la estructura de formatación `f` con strings."
      ],
      "metadata": {
        "id": "yNI2-XTbB3aS"
      }
    },
    {
      "cell_type": "code",
      "source": [
        "#Practicando con INPUT\n",
        "\n",
        "#Forma directa con \"f\" y {}\n",
        "nombre = input(\"Escribe tu nombre : \")\n",
        "apellido = input(\"Escribe tu apellido : \")\n",
        "edad = input(\"Escribe tu edad : \")\n",
        "\n",
        "print(f\"Hola {nombre} \" + f\"{apellido}\" + f\" tu edad es {edad}\" + \" \\n \")\n",
        "\n",
        "\n",
        "#Forma directa con % y variables\n",
        "nombre_alumno = 'Penélope Camacho'\n",
        "edad_alumno = 11\n",
        "media_alumno = 9.95\n",
        "print('Nombre del alumno es %s, tiene %d años y su media es %f.' %(nombre_alumno, edad_alumno, media_alumno))\n"
      ],
      "metadata": {
        "id": "keJjA5N9_K5i",
        "outputId": "37e9e619-f8f9-410a-9409-9e2f8ff62183",
        "colab": {
          "base_uri": "https://localhost:8080/"
        }
      },
      "execution_count": null,
      "outputs": [
        {
          "output_type": "stream",
          "name": "stdout",
          "text": [
            "Escribe tu nombre : \n",
            "Escribe tu apellido : \n",
            "Escribe tu edad : \n",
            "Hola   tu edad es  \n",
            " \n",
            "Nombre del alumno es Penélope Camacho, tiene 11 años y su media es 9.950000.\n"
          ]
        }
      ]
    },
    {
      "cell_type": "markdown",
      "source": [
        "# Estructuras condicionales"
      ],
      "metadata": {
        "id": "NwRaiHHHhhyl"
      }
    },
    {
      "cell_type": "markdown",
      "source": [
        "## `IF` y `ELSE`\n",
        "\n",
        "Los comandos `if` y `else` son dos estructuras condicionales. El comando `if` ejecutará el bloque de comandos en caso de que la condición citada sea  **verdadera**. El comando `else` ejecutará el bloque de comandos en el caso de que la condicional de `if` sea **falsa**."
      ],
      "metadata": {
        "id": "qXZqg9aYEhAh"
      }
    },
    {
      "cell_type": "markdown",
      "source": [
        "El comando `if` es una palabra clave en Python que significa \"si\". Este se emplea para conformar la estructura condicional, que te permite verificar si una determinada condición es verdadera o falsa e, inmediatamente después, ejecute un bloque de código específico dependiendo del resultado de la verificación. La sintaxis para usar el comando `if` es:\n",
        "\n",
        "\n",
        "\n",
        "```\n",
        "if condicion:\n",
        "    # Realiza algo\n",
        "```\n",
        "\n"
      ],
      "metadata": {
        "id": "EIhlqHXd2Gil"
      }
    },
    {
      "cell_type": "markdown",
      "source": [
        "Ya el comando `else` en Python se usa en junción con la palabra clave `if` para formar una estructura condicional. la sintaxis para usar el `else` es:\n",
        "\n",
        "```\n",
        "if condicion:\n",
        "  # codigo en caso de que sea verdad\n",
        "else:\n",
        "  # codigo en caso de que sea falso\n",
        "```\n",
        "\n",
        "el comando `else` se ejecuta cuando la condición verificada por el `if` es evaluada como `False`."
      ],
      "metadata": {
        "id": "27RW2v_sIKct"
      }
    },
    {
      "cell_type": "markdown",
      "source": [
        "---\n",
        "**Situación:**\n",
        "\n",
        "Recibiremos el promedio de la nota de los estudiantes y necesitamos de un algoritmo que ejecute el análisis y determine si el estudiante fue **Aprobado** o **Reprobado**, mostrando un mensaje del resultado. Para ser aprobado, el promedio necesita ser igual o superior a 7.0."
      ],
      "metadata": {
        "id": "BqORg85XX-Nl"
      }
    },
    {
      "cell_type": "markdown",
      "source": [
        "Ahora, nuestra institución educativa estableció que las personas que tengan el promedio entre 5.0 y 7.0 pueden participar del curso de **Recuperación** durante las vacaciones para lograr aprobar.\n",
        "\n",
        "Entonces podemos apoyarnos en un conjunto de `if`s para poder estructurar esta nueva condición."
      ],
      "metadata": {
        "id": "bD9O17HB6LUo"
      }
    },
    {
      "cell_type": "markdown",
      "source": [
        "Observa que en casos con 3 situaciones como este necesitamos definir bien nuestras condiciones. Pues, si realizamos una condición con `else` al final, este irá a considerar solamente la condición `if` inmediatamente anterior para generar la salida en caso de que el resultado de su operación lógica sea **falso** dando como resultado, dos o más ejecuciones.\n",
        "\n",
        "Por ejemplo:"
      ],
      "metadata": {
        "id": "D5e2mByjvycO"
      }
    },
    {
      "cell_type": "markdown",
      "source": [
        "## `ELIF`\n",
        "\n",
        "El comando `elif` es una palabra clave en Python que significa \"si no, si\" y lo podemos considerar una *contracción* entre `else` e `if`. Se utiliza en conjunto con la palabra clave `if` para formar una estructura condicional en cadena."
      ],
      "metadata": {
        "id": "04T5g-7h4zWx"
      }
    },
    {
      "cell_type": "markdown",
      "source": [
        "la sintaxis para utilizar el comando `elif` es:\n",
        "\n",
        "```\n",
        "if condicion1:\n",
        "    # Realiza algo\n",
        "elif condicion2:\n",
        "    # Realiza otra cosa\n",
        "elif condicion3:\n",
        "    # Realiza otra cosa\n",
        "else:\n",
        "    # Realiza algo diferente\n",
        "```\n",
        "\n",
        "El comando `elif` permite que puedas verificar varias condiciones en cadena, economizando espacio en tu código. Si la primera condición se evalúa como `False`, el interpretador de Python evaluará la próxima condición con el `elif`. Ello continuará hasta que una condición sea evaluada como `True` o hasta que el `else` sea alcazado. Si ninguna de las condiciones es evaluada como `True`, la ejecución del código del comando `else` será iniciada."
      ],
      "metadata": {
        "id": "rNBHr5mm1Lm6"
      }
    },
    {
      "cell_type": "markdown",
      "source": [
        "Vamos a emplear el mismo caso anterior:"
      ],
      "metadata": {
        "id": "MVoykFbB4bd4"
      }
    },
    {
      "cell_type": "markdown",
      "source": [
        "## Operadores\n",
        "\n",
        "Durante la construcción de comandos a veces necesitamos de una elaboración mayor de la expresión condicional, necesitando que algunos operadores lógicos se encuentren integrados."
      ],
      "metadata": {
        "id": "Tf1wSOem6iwZ"
      }
    },
    {
      "cell_type": "markdown",
      "source": [
        "### `AND`, `OR`, `NOT`\n",
        "\n",
        "Los operadores lógicos `and`, `or` y `not` son usados para combinar expresiones lógicas en Python. Ellos son usados frecuentemente en conjunto con el comando `if` para crear estructuras condicionales más complejas.\n"
      ],
      "metadata": {
        "id": "GFIZnRWXGPWO"
      }
    },
    {
      "cell_type": "markdown",
      "source": [
        "- `AND` es usado para verificar si dos condiciones son verdaderas. La expresión lógica¹ `x and y` se evalúa como `True` tan solo si **ambas condiciones `x` y `y` son verdaderas**, y como `False` en caso contrario.\n",
        "\n",
        "- `OR` es usado para verificar si al menos una de las condiciones es verdadera. La expresión lógica `x or y` se evalúa como `True` **si al menos una de las condiciones `x` o `y` es verdadera**, y como `False` si ambas condiciones son falsas.\n",
        "\n",
        "- `NOT` es usado para **negar una condición**. La expresión lógica `not x` es evaluada como `True` si la condición x es falsa, y como `False` si la condición x es verdadera.\n",
        "\n",
        "¹ Una expresión lógica es una declaración que puede ser evaluada como verdadera o falsa. Ella se compone por operandos lógicos² y por operadores lógicos³, que son usados ​​para combinar varias expresiones lógicas en una única expresión.\n",
        "\n",
        "² Los operandos lógicos son los elementos que son comparados o evaluados en una expresión lógica. Ellos son generalmente valores verdaderos o falsos, pero también pueden ser expresiones lógicas más complejas. En Python, los operandos lógicos son los valores `True` y `False`.\n",
        "\n",
        "³ Los operadores lógicos son ls símbolos o palabras clave que son usados ​​para combinar varias expresiones lógicas en una única expresión. En Python, los operadores lógicos son `and`, `or` y `not`, bien como las palabras clave `if`, `elif` e `else`."
      ],
      "metadata": {
        "id": "Z_dgAoHXJbzB"
      }
    },
    {
      "cell_type": "markdown",
      "source": [
        "> Operadores lógicos más comunes\n",
        "\n",
        "|a|b|AND|OR|NOT|\n",
        "|-|-|-|-|-|\n",
        "|0|0|0|0|1\n",
        "|0|1|0|1|-\n",
        "|1|0|0|1|-\n",
        "|1|1|1|1|0\n"
      ],
      "metadata": {
        "id": "2E5aUogf-49u"
      }
    },
    {
      "cell_type": "markdown",
      "source": [
        "### `IN`\n",
        "\n",
        "Es usado para verificar si un elemento está presente en una lista, tupla u otra colección de conjunto. La expresión `x in y` se evalúa como `True` si el elemento `x` esta presente na variávelen la variable de conjunto `y`, y como `False` en caso contrario."
      ],
      "metadata": {
        "id": "w7EXG1dhWtja"
      }
    },
    {
      "cell_type": "markdown",
      "source": [
        "Podemos verificarlo con variables de texto.\n",
        "\n",
        "---\n",
        "\n",
        "**Situación:**\n",
        "\n",
        "En la escuela nos entregaron una lista con nombres de estudiantes que fueron aprobados según el promedio del semestre, pero es necesario verificar si algunos nombres están en esa lista para confirmar que los datos estén correctos.\n",
        "\n",
        "La lista distribuida puede ser observada a continuación:\n",
        "\n",
        "```\n",
        "lista = 'Juan Pérez, María González, Pedro Rodríguez, Ana López, Carlos Martínez,\n",
        "    Laura Sánchez, José García, Elena Fernández, Luis Morales, Carmen Torres,\n",
        "    David Ruiz, Isabel Ramírez, Javier Díaz, Sara Herrera, Miguel Castro,\n",
        "    Patricia Ortega, Francisco Vargas, Marta Jiménez, Manuel Medina, Rosa Molina,\n",
        "    Alejandro Silva, Silvia Ruiz, Andrés Torres, Natalia Soto, Diego Guerrero,\n",
        "    Paula Ríos, Ricardo Navarro, Alicia Cordero, Carlos Vidal, Lorena Gómez'\n",
        "```\n",
        "\n",
        "Los nombres que necesitas verificar son los siguientes:\n",
        "\n",
        "```\n",
        "nombre_1 = 'Miguel Castro'\n",
        "nombre_2 = 'Marcelo Noguera'\n",
        "```"
      ],
      "metadata": {
        "id": "enJNp6JenQbq"
      }
    },
    {
      "cell_type": "markdown",
      "source": [
        "# PRACTICA DE ESTRUCTURAS CONDICIONALES"
      ],
      "metadata": {
        "id": "3kFzwvS-a20W"
      }
    },
    {
      "cell_type": "code",
      "source": [
        "#----------------------------------------------------------------------------\n",
        "'''🧠 Entrenando la programación\n",
        " 1. Número más grande\n",
        "python\n",
        "Copy\n",
        "Edit'''\n",
        "\n",
        "a = float(input(\"Ingresa el primer número: \"))\n",
        "b = float(input(\"Ingresa el segundo número: \"))\n",
        "\n",
        "mayor = max(a, b)\n",
        "print(\"El número más grande es:\", mayor)\n",
        "#max() # devuelve el mayor de los dos números.\n",
        "\n",
        "'''2. Crecimiento o disminución\n",
        "python\n",
        "Copy\n",
        "Edit'''\n",
        "\n",
        "porcentaje = float(input(\"Ingresa el porcentaje de crecimiento: \"))\n",
        "\n",
        "if porcentaje > 0:\n",
        "    print(\"Hubo un crecimiento.\")\n",
        "elif porcentaje < 0:\n",
        "    print(\"Hubo una disminución.\")\n",
        "else:\n",
        "    print(\"No hubo cambios.\")\n",
        "# Evaluamos si es positivo, negativo o cero.\n",
        "\n",
        "'''3. Vocal o consonante\n",
        "python\n",
        "Copy\n",
        "Edit'''\n",
        "\n",
        "letra = input(\"Ingresa una letra: \").lower()\n",
        "\n",
        "if letra in \"aeiou\":\n",
        "    print(\"Es una vocal.\")\n",
        "elif letra.isalpha():\n",
        "    print(\"Es una consonante.\")\n",
        "else:\n",
        "    print(\"No es una letra válida.\")\n",
        "# Usamos in y .isalpha() para validar.\n",
        "\n",
        "'''4. Precios de auto por 3 años\n",
        "python\n",
        "Copy\n",
        "Edit'''\n",
        "precios = []\n",
        "for i in range(3):\n",
        "    precio = float(input(f\"Ingrese el precio del año {i+1}: \"))\n",
        "    precios.append(precio)\n",
        "\n",
        "print(\"Precio más alto:\", max(precios))\n",
        "print(\"Precio más bajo:\", min(precios))\n",
        "# Guardamos precios en lista y usamos max() y min().\n",
        "\n",
        "'''5. Producto más barato\n",
        "python\n",
        "Copy\n",
        "Edit'''\n",
        "precios = [float(input(f\"Precio del producto {i+1}: \")) for i in range(3)]\n",
        "print(\"El producto más barato cuesta:\", min(precios))\n",
        "# List comprehension + min().\n",
        "\n",
        "'''6. Orden descendente\n",
        "python\n",
        "Copy\n",
        "Edit'''\n",
        "numeros = [float(input(f\"Ingrese número {i+1}: \")) for i in range(3)]\n",
        "numeros.sort(reverse=True)\n",
        "print(\"Orden descendente:\", numeros)\n",
        "# Usamos sort(reverse=True) para ordenar.\n",
        "\n",
        "'''7. Turno de estudio\n",
        "python\n",
        "Copy\n",
        "Edit'''\n",
        "\n",
        "turno = input(\"¿En qué turno estudias? (mañana, tarde, noche): \").lower()\n",
        "\n",
        "if turno == \"mañana\":\n",
        "    print(\"¡Buenos Días!\")\n",
        "elif turno == \"tarde\":\n",
        "    print(\"¡Buenas Tardes!\")\n",
        "elif turno == \"noche\":\n",
        "    print(\"¡Buenas Noches!\")\n",
        "else:\n",
        "    print(\"¡Valor Inválido!\")\n",
        "# Comparamos texto con if-elif.\n",
        "\n",
        "'''8. Par o impar\n",
        "python\n",
        "Copy\n",
        "Edit'''\n",
        "\n",
        "numero = int(input(\"Ingresa un número entero: \"))\n",
        "\n",
        "if numero % 2 == 0:\n",
        "    print(\"Es par.\")\n",
        "else:\n",
        "    print(\"Es impar.\")\n",
        "# Usamos el operador módulo %.\n",
        "\n",
        "'''9. Entero o decimal\n",
        "python\n",
        "Copy\n",
        "Edit'''\n",
        "\n",
        "numero = input(\"Ingresa un número: \")\n",
        "\n",
        "if \".\" in numero:\n",
        "    print(\"Es un número decimal.\")\n",
        "else:\n",
        "    print(\"Es un número entero.\")\n",
        "# Validación simple usando strings.\n",
        "\n",
        "\n",
        "#----------------------------------------------------------------------------\n",
        "# 🧱 Momento de los proyectos\n",
        "\n",
        "'''10. Operación matemática\n",
        "python\n",
        "Copy\n",
        "Edit'''\n",
        "a = float(input(\"Primer número: \"))\n",
        "b = float(input(\"Segundo número: \"))\n",
        "operacion = input(\"¿Qué operación quieres? (+, -, *, /): \")\n",
        "\n",
        "if operacion == \"+\":\n",
        "    resultado = a + b\n",
        "elif operacion == \"-\":\n",
        "    resultado = a - b\n",
        "elif operacion == \"*\":\n",
        "    resultado = a * b\n",
        "elif operacion == \"/\":\n",
        "    resultado = a / b\n",
        "else:\n",
        "    print(\"Operación no válida.\")\n",
        "    resultado = None\n",
        "\n",
        "if resultado is not None:\n",
        "    print(\"Resultado:\", resultado)\n",
        "    print(\"Par\" if resultado % 2 == 0 else \"Impar\")\n",
        "    print(\"Positivo\" if resultado >= 0 else \"Negativo\")\n",
        "    print(\"Entero\" if resultado == int(resultado) else \"Decimal\")\n",
        "'''11. Tipo de triángulo\n",
        "python\n",
        "Copy\n",
        "Edit'''\n",
        "\n",
        "a = float(input(\"Lado A: \"))\n",
        "b = float(input(\"Lado B: \"))\n",
        "c = float(input(\"Lado C: \"))\n",
        "\n",
        "if a + b > c and a + c > b and b + c > a:\n",
        "    if a == b == c:\n",
        "        print(\"Triángulo Equilátero\")\n",
        "    elif a == b or b == c or a == c:\n",
        "        print(\"Triángulo Isósceles\")\n",
        "    else:\n",
        "        print(\"Triángulo Escaleno\")\n",
        "else:\n",
        "    print(\"No se puede formar un triángulo.\")\n",
        "\n",
        "'''12. Combustibles\n",
        "python\n",
        "Copy\n",
        "Edit'''\n",
        "\n",
        "tipo = input(\"Tipo de combustible (E o D): \").upper()\n",
        "litros = float(input(\"Cantidad de litros: \"))\n",
        "\n",
        "if tipo == \"E\":\n",
        "    precio = 1.70\n",
        "    descuento = 0.02 if litros <= 15 else 0.04\n",
        "elif tipo == \"D\":\n",
        "    precio = 2.00\n",
        "    descuento = 0.03 if litros <= 15 else 0.05\n",
        "else:\n",
        "    print(\"Tipo no válido.\")\n",
        "    exit()\n",
        "\n",
        "total_bruto = precio * litros\n",
        "total_descuento = total_bruto * descuento\n",
        "total_final = total_bruto - total_descuento\n",
        "\n",
        "print(f\"Total a pagar: R$ {total_final:.2f}\")\n",
        "'''13. Variación de ventas\n",
        "python\n",
        "Copy\n",
        "Edit'''\n",
        "\n",
        "\n",
        "ventas_2022 = int(input(\"Ventas 2022: \"))\n",
        "ventas_2023 = int(input(\"Ventas 2023: \"))\n",
        "\n",
        "variacion = ((ventas_2023 - ventas_2022) / ventas_2022) * 100\n",
        "\n",
        "print(f\"Variación: {variacion:.2f}%\")\n",
        "\n",
        "if variacion > 20:\n",
        "    print(\"Bonificación para el equipo de ventas.\")\n",
        "elif 2 < variacion <= 20:\n",
        "    print(\"Pequeña bonificación.\")\n",
        "elif -10 <= variacion <= 2:\n",
        "    print(\"Planificación de incentivos.\")\n",
        "else:\n",
        "    print(\"Recorte de gastos.\")\n"
      ],
      "metadata": {
        "colab": {
          "base_uri": "https://localhost:8080/",
          "height": 0
        },
        "id": "d3dY-cRMbQjV",
        "outputId": "9b984f9d-d6e0-418e-e69d-89ad74cbc8c2"
      },
      "execution_count": 5,
      "outputs": [
        {
          "output_type": "stream",
          "name": "stdout",
          "text": [
            "Ingresa el primer número: 3\n",
            "Ingresa el segundo número: 4\n",
            "El número más grande es: 4.0\n",
            "Ingresa el porcentaje de crecimiento: 3\n",
            "Hubo un crecimiento.\n",
            "Ingresa una letra: a\n",
            "Es una vocal.\n",
            "Ingrese el precio del año 1: 2300\n",
            "Ingrese el precio del año 2: 2400\n",
            "Ingrese el precio del año 3: 2500\n",
            "Precio más alto: 2500.0\n",
            "Precio más bajo: 2300.0\n",
            "Precio del producto 1: 3000\n",
            "Precio del producto 2: 2000\n",
            "Precio del producto 3: 4000\n",
            "El producto más barato cuesta: 2000.0\n",
            "Ingrese número 1: 3\n",
            "Ingrese número 2: 4\n",
            "Ingrese número 3: 5\n",
            "Orden descendente: [5.0, 4.0, 3.0]\n",
            "¿En qué turno estudias? (mañana, tarde, noche): tarde\n",
            "¡Buenas Tardes!\n",
            "Ingresa un número entero: 3\n",
            "Es impar.\n",
            "Ingresa un número: 4\n",
            "Es un número entero.\n",
            "Primer número: 5\n",
            "Segundo número: 6\n",
            "¿Qué operación quieres? (+, -, *, /): +\n",
            "Resultado: 11.0\n",
            "Impar\n",
            "Positivo\n",
            "Entero\n",
            "Lado A: 3\n",
            "Lado B: 4\n",
            "Lado C: 5\n",
            "Triángulo Escaleno\n",
            "Tipo de combustible (E o D): D\n",
            "Cantidad de litros: 3\n",
            "Total a pagar: R$ 5.82\n",
            "Ventas 2022: 3200\n",
            "Ventas 2023: 3000\n",
            "Variación: -6.25%\n",
            "Planificación de incentivos.\n"
          ]
        }
      ]
    },
    {
      "cell_type": "markdown",
      "source": [
        "# Estructuras de repetición"
      ],
      "metadata": {
        "id": "aL1vJPewvwvz"
      }
    },
    {
      "cell_type": "markdown",
      "source": [
        "Cuando tenemos que ejecutar un mismo bloque de comandos durante varias ocasiones no es nada práctico hacerlo a mano.\n",
        "\n",
        "**Situación**: Nos fue solicitado obtener e imprimir el promedio de 2 notas de **3 estudantes**:"
      ],
      "metadata": {
        "id": "VcPfCa8d-84t"
      }
    },
    {
      "cell_type": "markdown",
      "source": [
        "Ahora imaginemos una situación en que no son tan solo 3 estudiantes, sino 100 estudiantes. No sería nada interesante repetir el mismo código 100 veces, sino **ejecutar el mismo código 100 veces**.\n",
        "\n",
        "¡Esta estructura la logramos construir con lazos de repetición!"
      ],
      "metadata": {
        "id": "9puIuvUbFSFX"
      }
    },
    {
      "cell_type": "markdown",
      "source": [
        "## `WHILE`"
      ],
      "metadata": {
        "id": "uLO9-aE4-wx8"
      }
    },
    {
      "cell_type": "markdown",
      "source": [
        "El lazo `while` es una estructura de control de repetición en Python que permite ejecutar un bloque de código repetidamente mientras que una determinada condición sea verdadera. Su estructura es:\n",
        "\n",
        "\n",
        "\n",
        "```\n",
        "while condicion:\n",
        "    # bloque de codigo\n",
        "```\n",
        "\n",
        "Vamos a construir un ejemplo con un contador de 1 hasta 10.\n"
      ],
      "metadata": {
        "id": "rXZxDMiqHxm9"
      }
    },
    {
      "cell_type": "code",
      "source": [
        "contador = 1\n",
        "while contador <=10:\n",
        "  print(contador)\n",
        "  contador += 1"
      ],
      "metadata": {
        "id": "Hd0ZSWxD9wCD",
        "colab": {
          "base_uri": "https://localhost:8080/",
          "height": 0
        },
        "outputId": "1033e03e-5615-458c-f6f6-fd723b59156d"
      },
      "execution_count": 5,
      "outputs": [
        {
          "output_type": "stream",
          "name": "stdout",
          "text": [
            "1\n",
            "2\n",
            "3\n",
            "4\n",
            "5\n",
            "6\n",
            "7\n",
            "8\n",
            "9\n",
            "10\n"
          ]
        }
      ]
    },
    {
      "cell_type": "markdown",
      "source": [
        "Ahora vamos a colectar las notas y promedios de cada alumno dentro del lazo `while`. Haremos un ejemplo con 3 promedios."
      ],
      "metadata": {
        "id": "W4KZPBJuIrut"
      }
    },
    {
      "cell_type": "code",
      "source": [
        "#Calculador de promedio de alumnos\n",
        "#contador == alumno\n",
        "contador = 1\n",
        "while contador <= 3 :\n",
        "   nota_1 = float(input(f\"Ingrese la nota {contador} : \"))\n",
        "   nota_2 = float(input(f\"Ingrese la nota {contador} : \"))\n",
        "   promedio = (nota_1 + nota_2)/2\n",
        "   print(f\"El promedio de alumno {contador} es {promedio}\")\n",
        "   contador += 1"
      ],
      "metadata": {
        "id": "P6E0_dW-9lZ9"
      },
      "execution_count": null,
      "outputs": []
    },
    {
      "cell_type": "markdown",
      "source": [
        "## `FOR`"
      ],
      "metadata": {
        "id": "WgAIaENMMfCP"
      }
    },
    {
      "cell_type": "markdown",
      "source": [
        "El lazo `for` es un tipo de estructura de control de flujo en Python que permite iterar sobre un conjunto de elementos. Su estructura es:\n",
        "\n",
        "\n",
        "\n",
        "```\n",
        "for elemento in conjunto:\n",
        "    # codigo a ser ejecutado para cada elemento\n",
        "```\n",
        "\n",
        "El lazo `for` itera sobre cada elemento del conjunto especificado y ejecuta el bloque de código dentro del lazo para cada elemento. Cuando el lazo llega al final del conjunto, este se interrumpe y el programa continúa la ejecución después del lazo.\n",
        "\n"
      ],
      "metadata": {
        "id": "HxrSZoRAMh-x"
      }
    },
    {
      "cell_type": "markdown",
      "source": [
        "El conjunto lo podemos generar con la función incorporada [`range()`](https://docs.python.org/3/library/functions.html#func-range). Se trata de una función capaz de generar una secuencia de números enteros. La estructura de esta función es:\n",
        "\n",
        "```\n",
        "range(inicio, fin, paso)\n",
        "```\n",
        "\n",
        "Según la documentación, `range()` genera una secuencia de números enteros a partir del valor del parámetro `inicio` hasta el valor del parámetro `fin`, de acuerdo con el valor del parámetro `paso`. Si `inicio` no es especificado, el valor por defecto es `0`. Si `paso` no es especificado, el valor por defecto es `1`.\n",
        "\n",
        "\n"
      ],
      "metadata": {
        "id": "6VgjyoQtPHBM"
      }
    },
    {
      "cell_type": "markdown",
      "source": [
        "Vamos a recrear el mismo contador `while` con el lazo `for`."
      ],
      "metadata": {
        "id": "ryn0hfdlUwC8"
      }
    },
    {
      "cell_type": "code",
      "source": [
        "# Practicando FOR\n",
        "#incluye el primer valor, pero excluye el ultimo si es de 1 al 10 , deberia entonces ser hasta el 11 ya que excluye el ultimo\n",
        "alumno = 1\n",
        "for e in range(1,4):\n",
        "    nota_1 = float(input(f\"Ingrese la nota 1 : \"))\n",
        "    nota_2 = float(input(f\"Ingrese la nota 2 : \"))\n",
        "    promedio = (nota_1 + nota_2)/2\n",
        "    print(f\"El promedio del alumno #{alumno} es {promedio}\")\n",
        "    alumno += 1\n"
      ],
      "metadata": {
        "id": "uXIZnLSr9jOu"
      },
      "execution_count": null,
      "outputs": []
    },
    {
      "cell_type": "markdown",
      "source": [
        "# PRACTICA DE ESTRUCTURAS DE REPETICIÓN"
      ],
      "metadata": {
        "id": "wTtkbq8LF4mi"
      }
    },
    {
      "cell_type": "code",
      "source": [
        "'''1. Números entre dos enteros\n",
        "python\n",
        "Copy\n",
        "Edit'''\n",
        "\n",
        "a = int(input(\"Ingresa el primer número: \"))\n",
        "b = int(input(\"Ingresa el segundo número: \"))\n",
        "\n",
        "print(\"Números entre ellos:\")\n",
        "for i in range(min(a, b) + 1, max(a, b)):\n",
        "    print(i)\n",
        "\n",
        "'''2. Crecimiento de bacterias\n",
        "python\n",
        "Copy\n",
        "Edit'''\n",
        "\n",
        "dias = 0\n",
        "a = 4\n",
        "b = 10\n",
        "\n",
        "while a < b:\n",
        "    a *= 1.03\n",
        "    b *= 1.015\n",
        "    dias += 1\n",
        "\n",
        "print(f\"Se necesitaron {dias} días para que la colonia A iguale o supere a la B.\")\n",
        "\n",
        "\n",
        "'''3. Validación de calificaciones\n",
        "python\n",
        "Copy\n",
        "Edit'''\n",
        "\n",
        "calificaciones = []\n",
        "\n",
        "for i in range(15):\n",
        "    while True:\n",
        "        nota = float(input(f\"Ingrese la calificación #{i+1} (0-5): \"))\n",
        "        if 0 <= nota <= 5:\n",
        "            calificaciones.append(nota)\n",
        "            break\n",
        "        else:\n",
        "            print(\"¡Calificación inválida! Intenta de nuevo.\")\n",
        "'''4. Promedio de temperaturas hasta -273°C\n",
        "python\n",
        "Copy\n",
        "Edit'''\n",
        "\n",
        "suma = 0\n",
        "contador = 0\n",
        "\n",
        "while True:\n",
        "    temp = float(input(\"Ingresa temperatura en °C (o -273 para terminar): \"))\n",
        "    if temp == -273:\n",
        "        break\n",
        "    suma += temp\n",
        "    contador += 1\n",
        "\n",
        "if contador > 0:\n",
        "    promedio = suma / contador\n",
        "    print(f\"Promedio de temperaturas: {promedio:.2f}°C\")\n",
        "else:\n",
        "    print(\"No se ingresaron temperaturas válidas.\")\n",
        "\n",
        "'''5. Factorial\n",
        "python\n",
        "Copy\n",
        "Edit'''\n",
        "\n",
        "n = int(input(\"Ingresa un número entero para calcular su factorial: \"))\n",
        "factorial = 1\n",
        "\n",
        "for i in range(1, n + 1):\n",
        "    factorial *= i\n",
        "\n",
        "print(f\"El factorial de {n} es: {factorial}\")\n",
        "\n",
        "'''6. Tabla de multiplicar\n",
        "python\n",
        "Copy\n",
        "Edit'''\n",
        "\n",
        "n = int(input(\"Ingrese un número para ver su tabla de multiplicar (1-10): \"))\n",
        "print(f\"\\nTabla de multiplicar del {n}:\")\n",
        "\n",
        "for i in range(1, 11):\n",
        "    print(f\"{n} x {i} = {n * i}\")\n",
        "\n",
        "\n",
        "'''7. Número primo\n",
        "python\n",
        "Copy\n",
        "Edit'''\n",
        "\n",
        "n = int(input(\"Ingresa un número para verificar si es primo: \"))\n",
        "\n",
        "if n <= 1:\n",
        "    print(\"No es primo.\")\n",
        "else:\n",
        "    es_primo = True\n",
        "    for i in range(2, int(n**0.5) + 1):\n",
        "        if n % i == 0:\n",
        "            es_primo = False\n",
        "            break\n",
        "    print(\"Es primo.\" if es_primo else \"No es primo.\")\n",
        "\n",
        "'''8. Distribución de edades\n",
        "python\n",
        "Copy\n",
        "Edit'''\n",
        "\n",
        "rango1 = rango2 = rango3 = rango4 = 0\n",
        "\n",
        "while True:\n",
        "    edad = int(input(\"Ingrese edad del cliente (número negativo para salir): \"))\n",
        "    if edad < 0:\n",
        "        break\n",
        "    elif edad <= 25:\n",
        "        rango1 += 1\n",
        "    elif edad <= 50:\n",
        "        rango2 += 1\n",
        "    elif edad <= 75:\n",
        "        rango3 += 1\n",
        "    elif edad <= 100:\n",
        "        rango4 += 1\n",
        "\n",
        "print(\"Distribución de edades:\")\n",
        "print(f\"[0-25]: {rango1}\")\n",
        "print(f\"[26-50]: {rango2}\")\n",
        "print(f\"[51-75]: {rango3}\")\n",
        "print(f\"[76-100]: {rango4}\")\n",
        "\n",
        "'''9. Votación entre empleados\n",
        "python\n",
        "Copy\n",
        "Edit'''\n",
        "\n",
        "candidatos = [0, 0, 0, 0]  # Índices 0 a 3 para candidatos 1 a 4\n",
        "nulo = blanco = 0\n",
        "\n",
        "for i in range(20):\n",
        "    voto = int(input(f\"Empleado #{i+1} - Vota (1-4 para candidatos, 5 nulo, 6 blanco): \"))\n",
        "    if 1 <= voto <= 4:\n",
        "        candidatos[voto - 1] += 1\n",
        "    elif voto == 5:\n",
        "        nulo += 1\n",
        "    elif voto == 6:\n",
        "        blanco += 1\n",
        "    else:\n",
        "        print(\"Voto inválido, se contará como nulo.\")\n",
        "        nulo += 1\n",
        "\n",
        "total_votos = sum(candidatos) + nulo + blanco\n",
        "\n",
        "print(\"\\nResultados de la votación:\")\n",
        "for i in range(4):\n",
        "    print(f\"Candidato {i+1}: {candidatos[i]} votos\")\n",
        "\n",
        "print(f\"Votos nulos: {nulo}\")\n",
        "print(f\"Votos en blanco: {blanco}\")\n",
        "print(f\"Porcentaje de votos nulos: {nulo / total_votos * 100:.2f}%\")\n",
        "print(f\"Porcentaje de votos en blanco: {blanco / total_votos * 100:.2f}%\")"
      ],
      "metadata": {
        "id": "L5gWIYVrGjsL",
        "outputId": "b4e83d93-46c2-45a9-89df-710d96bb72a8",
        "colab": {
          "base_uri": "https://localhost:8080/"
        }
      },
      "execution_count": 23,
      "outputs": [
        {
          "output_type": "stream",
          "name": "stdout",
          "text": [
            "Ingresa el primer número: 10\n",
            "Ingresa el segundo número: 100\n",
            "Números entre ellos:\n",
            "11\n",
            "12\n",
            "13\n",
            "14\n",
            "15\n",
            "16\n",
            "17\n",
            "18\n",
            "19\n",
            "20\n",
            "21\n",
            "22\n",
            "23\n",
            "24\n",
            "25\n",
            "26\n",
            "27\n",
            "28\n",
            "29\n",
            "30\n",
            "31\n",
            "32\n",
            "33\n",
            "34\n",
            "35\n",
            "36\n",
            "37\n",
            "38\n",
            "39\n",
            "40\n",
            "41\n",
            "42\n",
            "43\n",
            "44\n",
            "45\n",
            "46\n",
            "47\n",
            "48\n",
            "49\n",
            "50\n",
            "51\n",
            "52\n",
            "53\n",
            "54\n",
            "55\n",
            "56\n",
            "57\n",
            "58\n",
            "59\n",
            "60\n",
            "61\n",
            "62\n",
            "63\n",
            "64\n",
            "65\n",
            "66\n",
            "67\n",
            "68\n",
            "69\n",
            "70\n",
            "71\n",
            "72\n",
            "73\n",
            "74\n",
            "75\n",
            "76\n",
            "77\n",
            "78\n",
            "79\n",
            "80\n",
            "81\n",
            "82\n",
            "83\n",
            "84\n",
            "85\n",
            "86\n",
            "87\n",
            "88\n",
            "89\n",
            "90\n",
            "91\n",
            "92\n",
            "93\n",
            "94\n",
            "95\n",
            "96\n",
            "97\n",
            "98\n",
            "99\n",
            "Se necesitaron 63 días para que la colonia A iguale o supere a la B.\n",
            "Ingrese la calificación #1 (0-5): 3\n",
            "Ingrese la calificación #2 (0-5): 4\n",
            "Ingrese la calificación #3 (0-5): 2\n",
            "Ingrese la calificación #4 (0-5): 5\n",
            "Ingrese la calificación #5 (0-5): 3\n",
            "Ingrese la calificación #6 (0-5): 4\n",
            "Ingrese la calificación #7 (0-5): 6\n",
            "¡Calificación inválida! Intenta de nuevo.\n",
            "Ingrese la calificación #7 (0-5): 7\n",
            "¡Calificación inválida! Intenta de nuevo.\n",
            "Ingrese la calificación #7 (0-5): 7\n",
            "¡Calificación inválida! Intenta de nuevo.\n",
            "Ingrese la calificación #7 (0-5): 8\n",
            "¡Calificación inválida! Intenta de nuevo.\n",
            "Ingrese la calificación #7 (0-5): 2\n",
            "Ingrese la calificación #8 (0-5): 3\n",
            "Ingrese la calificación #9 (0-5): 4\n",
            "Ingrese la calificación #10 (0-5): 5\n",
            "Ingrese la calificación #11 (0-5): 6\n",
            "¡Calificación inválida! Intenta de nuevo.\n",
            "Ingrese la calificación #11 (0-5): 1\n",
            "Ingrese la calificación #12 (0-5): 2\n",
            "Ingrese la calificación #13 (0-5): 3\n",
            "Ingrese la calificación #14 (0-5): 4\n",
            "Ingrese la calificación #15 (0-5): 3\n",
            "Ingresa temperatura en °C (o -273 para terminar): 156\n",
            "Ingresa temperatura en °C (o -273 para terminar): 234\n",
            "Ingresa temperatura en °C (o -273 para terminar): -273\n",
            "Promedio de temperaturas: 195.00°C\n",
            "Ingresa un número entero para calcular su factorial: 23\n",
            "El factorial de 23 es: 25852016738884976640000\n",
            "Ingrese un número para ver su tabla de multiplicar (1-10): 6\n",
            "\n",
            "Tabla de multiplicar del 6:\n",
            "6 x 1 = 6\n",
            "6 x 2 = 12\n",
            "6 x 3 = 18\n",
            "6 x 4 = 24\n",
            "6 x 5 = 30\n",
            "6 x 6 = 36\n",
            "6 x 7 = 42\n",
            "6 x 8 = 48\n",
            "6 x 9 = 54\n",
            "6 x 10 = 60\n",
            "Ingresa un número para verificar si es primo: 6\n",
            "No es primo.\n",
            "Ingrese edad del cliente (número negativo para salir): 30\n",
            "Ingrese edad del cliente (número negativo para salir): 31\n",
            "Ingrese edad del cliente (número negativo para salir): 32\n",
            "Ingrese edad del cliente (número negativo para salir): 33\n",
            "Ingrese edad del cliente (número negativo para salir): 34\n",
            "Ingrese edad del cliente (número negativo para salir): 35\n",
            "Ingrese edad del cliente (número negativo para salir): -32\n",
            "Distribución de edades:\n",
            "[0-25]: 0\n",
            "[26-50]: 6\n",
            "[51-75]: 0\n",
            "[76-100]: 0\n",
            "Empleado #1 - Vota (1-4 para candidatos, 5 nulo, 6 blanco): 3\n",
            "Empleado #2 - Vota (1-4 para candidatos, 5 nulo, 6 blanco): 3\n",
            "Empleado #3 - Vota (1-4 para candidatos, 5 nulo, 6 blanco): 2\n",
            "Empleado #4 - Vota (1-4 para candidatos, 5 nulo, 6 blanco): 1\n",
            "Empleado #5 - Vota (1-4 para candidatos, 5 nulo, 6 blanco): 3\n",
            "Empleado #6 - Vota (1-4 para candidatos, 5 nulo, 6 blanco): 2\n",
            "Empleado #7 - Vota (1-4 para candidatos, 5 nulo, 6 blanco): 4\n",
            "Empleado #8 - Vota (1-4 para candidatos, 5 nulo, 6 blanco): 5\n",
            "Empleado #9 - Vota (1-4 para candidatos, 5 nulo, 6 blanco): 6\n",
            "Empleado #10 - Vota (1-4 para candidatos, 5 nulo, 6 blanco): 3\n",
            "Empleado #11 - Vota (1-4 para candidatos, 5 nulo, 6 blanco): 4\n",
            "Empleado #12 - Vota (1-4 para candidatos, 5 nulo, 6 blanco): 5\n",
            "Empleado #13 - Vota (1-4 para candidatos, 5 nulo, 6 blanco): 6\n",
            "Empleado #14 - Vota (1-4 para candidatos, 5 nulo, 6 blanco): 2\n",
            "Empleado #15 - Vota (1-4 para candidatos, 5 nulo, 6 blanco): 3\n",
            "Empleado #16 - Vota (1-4 para candidatos, 5 nulo, 6 blanco): 4\n",
            "Empleado #17 - Vota (1-4 para candidatos, 5 nulo, 6 blanco): 3\n",
            "Empleado #18 - Vota (1-4 para candidatos, 5 nulo, 6 blanco): 4\n",
            "Empleado #19 - Vota (1-4 para candidatos, 5 nulo, 6 blanco): 5\n",
            "Empleado #20 - Vota (1-4 para candidatos, 5 nulo, 6 blanco): 3\n",
            "\n",
            "Resultados de la votación:\n",
            "Candidato 1: 1 votos\n",
            "Candidato 2: 3 votos\n",
            "Candidato 3: 7 votos\n",
            "Candidato 4: 4 votos\n",
            "Votos nulos: 3\n",
            "Votos en blanco: 2\n",
            "Porcentaje de votos nulos: 15.00%\n",
            "Porcentaje de votos en blanco: 10.00%\n"
          ]
        }
      ]
    },
    {
      "cell_type": "markdown",
      "source": [
        "# Estructuras de datos"
      ],
      "metadata": {
        "id": "8noP8OJ0Vhux"
      }
    },
    {
      "cell_type": "markdown",
      "source": [
        "Un conjunto de elementos es una colección de items, que son almacenados juntos de manera organizada. Algunos ejemplos de conjuntos de elementos en Python son las listas, los strings y los diccionarios."
      ],
      "metadata": {
        "id": "xpEUkefTu8fY"
      }
    },
    {
      "cell_type": "markdown",
      "source": [
        "## Listas"
      ],
      "metadata": {
        "id": "THSg4KYLwxIb"
      }
    },
    {
      "cell_type": "markdown",
      "source": [
        "Las listas pueden almacenar una colección de items en orden. Ellas son delimitadas por corchetes `[]` y sus elementos son separados por comas.\n",
        "\n",
        "Estas pueden almacenar cualquier tipo de items, incluyendo números, strings, objetos, otras listas, entre otros. También nos permiten almacenar items de tipos de datos diferentes juntos en una única lista."
      ],
      "metadata": {
        "id": "dzpsiqrOyJcK"
      }
    },
    {
      "cell_type": "code",
      "source": [
        "lista = ['Penélope Camacho',9.5,9.0,9.7,True]\n",
        "lista"
      ],
      "metadata": {
        "id": "DO3TBj7nAYeG",
        "colab": {
          "base_uri": "https://localhost:8080/"
        },
        "outputId": "fbee2eb5-265e-4b5b-badf-a0dd9331074b"
      },
      "execution_count": null,
      "outputs": [
        {
          "output_type": "execute_result",
          "data": {
            "text/plain": [
              "['Penélope Camacho', 9.5, 9.0, 9.7, True]"
            ]
          },
          "metadata": {},
          "execution_count": 62
        }
      ]
    },
    {
      "cell_type": "code",
      "source": [],
      "metadata": {
        "id": "DO2ubP9N9D_2"
      },
      "execution_count": null,
      "outputs": []
    },
    {
      "cell_type": "markdown",
      "source": [
        "Las listas son organizadas en Python porque **cada elemento de la lista tiene un índice que indica su posición al interior de la lista**. Los índices comienzan en 0 van hasta el tamaño de la lista menos 1."
      ],
      "metadata": {
        "id": "qUz3sJNl6LgK"
      }
    },
    {
      "cell_type": "markdown",
      "source": [
        "Tenemos entonces 5 elementos con índices que varían de 0 a 4, ordenadamente:\n",
        "\n",
        "```\n",
        "#             [0]           [1]   [2]   [3]    [4]\n",
        "lista = ['Penélope Camacho', 9.5 , 9.0 , 9.7 , True]\n",
        "```\n",
        "\n",
        "En Python tenemos también los índices **negativos** que se inician en el último elemento con el valor de `-1` y avanzan en el universo de los negativos hasta llegar al 1° elemento:\n",
        "\n",
        "```\n",
        "#             [-5]         [-4]  [-3]  [-2]   [-1]\n",
        "lista = ['Penélope Camacho', 9.5 , 9.0 , 9.7 , True]\n",
        "```\n",
        "\n",
        "Logramos seleccionar separadamente cada elemento a través de sus respectivos índices. Colocando el nombre de la lista y en seguida el índice que será seleccionado."
      ],
      "metadata": {
        "id": "rLf-Qg526hFD"
      }
    },
    {
      "cell_type": "code",
      "source": [],
      "metadata": {
        "id": "4hco1Zqy88Kw"
      },
      "execution_count": null,
      "outputs": []
    },
    {
      "cell_type": "code",
      "source": [],
      "metadata": {
        "id": "M8lH0I2288Ph"
      },
      "execution_count": null,
      "outputs": []
    },
    {
      "cell_type": "markdown",
      "source": [
        "Una forma más dinámica de trabajar item a item en una lista es utilizando un lazo `for` para leer un elemento a la vez."
      ],
      "metadata": {
        "id": "6TaE1ijmBTCd"
      }
    },
    {
      "cell_type": "code",
      "source": [],
      "metadata": {
        "id": "rBx4Yu1786Sy"
      },
      "execution_count": null,
      "outputs": []
    },
    {
      "cell_type": "markdown",
      "source": [
        "**Situación**: La nota `9.0` de Penélope necesita ser ajustada pues ganó 1 punto en su última nota por participación en clase. Entonces es necesario realizar un cambio en el índice `2` de `9.0` a `10.0`."
      ],
      "metadata": {
        "id": "Dh1_HnIVvucY"
      }
    },
    {
      "cell_type": "code",
      "source": [],
      "metadata": {
        "id": "bVPoZg668z3T"
      },
      "execution_count": null,
      "outputs": []
    },
    {
      "cell_type": "code",
      "source": [],
      "metadata": {
        "id": "Jo_PBQ0g8z7D"
      },
      "execution_count": null,
      "outputs": []
    },
    {
      "cell_type": "markdown",
      "source": [
        "También podemos calcular el promedio del estudiante a partir de los datos que tenemos."
      ],
      "metadata": {
        "id": "53XduzXkycAf"
      }
    },
    {
      "cell_type": "code",
      "source": [],
      "metadata": {
        "id": "SIH61Rrb8yv4"
      },
      "execution_count": null,
      "outputs": []
    },
    {
      "cell_type": "markdown",
      "source": [
        "## Manipulación de listas\n",
        "\n",
        "Las listas son muy útiles en Python porque nos permiten almacenar y acceder a una colección de items de manera organizada y rápida. Estas también ofrecen muchos métodos útiles para manipular los itens almacenados, como adicionar, remover, clasificar y buscar elementos."
      ],
      "metadata": {
        "id": "d-iYr10-y4qw"
      }
    },
    {
      "cell_type": "markdown",
      "source": [
        "#### Cantidad de elementos\n",
        "\n",
        "Usamos la función [`len()`](https://docs.python.org/3/library/functions.html#len) para descubrir la cantidad de elementos de un conjunto."
      ],
      "metadata": {
        "id": "ZLqx9A97XVB_"
      }
    },
    {
      "cell_type": "code",
      "source": [],
      "metadata": {
        "id": "6q1Tmm7P8wQf"
      },
      "execution_count": null,
      "outputs": []
    },
    {
      "cell_type": "markdown",
      "source": [
        "#### Partición\n",
        "\n",
        "La partición de listas por indexación en Python es una técnica muy útil para seleccionar un subconjunto de elementos de una lista. Esta se realiza usando la sintaxis `lista[inicio:fin]`, donde `inicio` es el índice del primer elemento que será incluído en la partición `fin` es el índice del primer elemento que será excluído de la partición."
      ],
      "metadata": {
        "id": "Z5tpstlHJss3"
      }
    },
    {
      "cell_type": "code",
      "source": [],
      "metadata": {
        "id": "NctvJTTU8uV9"
      },
      "execution_count": null,
      "outputs": []
    },
    {
      "cell_type": "code",
      "source": [],
      "metadata": {
        "id": "bQZUwldj8uY2"
      },
      "execution_count": null,
      "outputs": []
    },
    {
      "cell_type": "markdown",
      "source": [
        "#### [`append()`](https://docs.python.org/3/tutorial/datastructures.html#:~:text=of%20list%20objects%3A-,list.append(x),-Add%20an%20item)\n",
        "\n",
        "Añade un elemento al final de la lista."
      ],
      "metadata": {
        "id": "O0RRyabkRzZC"
      }
    },
    {
      "cell_type": "code",
      "source": [],
      "metadata": {
        "id": "_Q0oODwa8spC"
      },
      "execution_count": null,
      "outputs": []
    },
    {
      "cell_type": "code",
      "source": [],
      "metadata": {
        "id": "RM894r2M8sse"
      },
      "execution_count": null,
      "outputs": []
    },
    {
      "cell_type": "markdown",
      "source": [
        "#### [`extend()`](https://docs.python.org/3/tutorial/datastructures.html#:~:text=list.extend(iterable))\n",
        "\n",
        "Añade varios elementos al final de la lista.\n",
        "\n",
        "Añadiremos las notas `[10.0,8.0,9.0]` En la lista de Penélope Camacho."
      ],
      "metadata": {
        "id": "uQV91XMsUOJD"
      }
    },
    {
      "cell_type": "code",
      "source": [],
      "metadata": {
        "id": "6Zk2MpMw8rQc"
      },
      "execution_count": null,
      "outputs": []
    },
    {
      "cell_type": "code",
      "source": [],
      "metadata": {
        "id": "NnoKkoWb8rTQ"
      },
      "execution_count": null,
      "outputs": []
    },
    {
      "cell_type": "markdown",
      "source": [
        "*A continuación te mostraremos lo que no puede realizarse con* `append`."
      ],
      "metadata": {
        "id": "IVJvkTwNUk6M"
      }
    },
    {
      "cell_type": "code",
      "source": [],
      "metadata": {
        "id": "u3Eub2ZL8pp3"
      },
      "execution_count": null,
      "outputs": []
    },
    {
      "cell_type": "code",
      "source": [],
      "metadata": {
        "id": "tsKK5Ne58pvN"
      },
      "execution_count": null,
      "outputs": []
    },
    {
      "cell_type": "markdown",
      "source": [
        "#### [`remove()`](https://docs.python.org/3/tutorial/datastructures.html#:~:text=append(x).-,list.remove(x),-Remove%20the%20first)\n",
        "\n",
        "Remueve un elemento específico de la lista."
      ],
      "metadata": {
        "id": "dPGM5gpyUX1z"
      }
    },
    {
      "cell_type": "code",
      "source": [],
      "metadata": {
        "id": "mmboODPc8nd5"
      },
      "execution_count": null,
      "outputs": []
    },
    {
      "cell_type": "code",
      "source": [],
      "metadata": {
        "id": "T_w6vVgV8nh_"
      },
      "execution_count": null,
      "outputs": []
    },
    {
      "cell_type": "markdown",
      "source": [
        "## Diccionario"
      ],
      "metadata": {
        "id": "Rc22Vc08YDZ2"
      }
    },
    {
      "cell_type": "markdown",
      "source": [
        "Los diccionarios son un tipo de estructura de datos que almacenan pares de *llave-valor*. Estos son delimitados por llaves `{}` y los pares *llave-valor* son separados por comas.\n",
        "\n",
        "```\n",
        "diccionario = {llave: valor}\n",
        "```\n",
        "\n",
        "La **llave** es un elemento único que identifica a un valor en el diccionario, mientras que el **valor** es el item que será almacenado para la llave. Las llaves y sus respectivos valores se pueden emplear para **cualquier tipo de dato**.\n",
        "\n",
        "Los diccionarios son útiles para almacenar y acceder a los datos de manera organizada y rápida. Se trata de un tipo de conjunto de elementos en Python, pues almacenan una colección de items."
      ],
      "metadata": {
        "id": "PJ-cCKPjeWxL"
      }
    },
    {
      "cell_type": "code",
      "source": [],
      "metadata": {
        "id": "NDHhzooE8ld5"
      },
      "execution_count": null,
      "outputs": []
    },
    {
      "cell_type": "code",
      "source": [],
      "metadata": {
        "id": "AVOzqzy-8lhh"
      },
      "execution_count": null,
      "outputs": []
    },
    {
      "cell_type": "markdown",
      "source": [
        "---\n",
        "**Situación:**\n",
        "\n",
        "Vamos a crear un conjunto de datos con las informaciones de matrícula de un estudiante. Los datos son los siguientes:\n",
        "\n",
        "- matrícula: 2000168933\n",
        "- día de registro: 25\n",
        "- mes de registro: 10\n",
        "- grupo: 2E"
      ],
      "metadata": {
        "id": "_JbQ3KMKfkXU"
      }
    },
    {
      "cell_type": "code",
      "source": [],
      "metadata": {
        "id": "0lfOu_c38jED"
      },
      "execution_count": null,
      "outputs": []
    },
    {
      "cell_type": "code",
      "source": [],
      "metadata": {
        "id": "XIuqpTTy8jHV"
      },
      "execution_count": null,
      "outputs": []
    },
    {
      "cell_type": "markdown",
      "source": [
        "Es posible sustituir los valores dentro de una llave. Por ejemplo, recibimos la información de que el grupo del estudiante que registramos cambio a `'2G'` y ahora necesitamos cambiar el valor de la llave `'grupo'`."
      ],
      "metadata": {
        "id": "8ex5pt2ykDd2"
      }
    },
    {
      "cell_type": "code",
      "source": [],
      "metadata": {
        "id": "kQGlp36b8fyP"
      },
      "execution_count": null,
      "outputs": []
    },
    {
      "cell_type": "code",
      "source": [],
      "metadata": {
        "id": "DnfH_qHi8f17"
      },
      "execution_count": null,
      "outputs": []
    },
    {
      "cell_type": "markdown",
      "source": [
        "También podemos añadir otros datos al diccionario. Vamos a añadir la información sobre la modalidad de estudio, nuestro estudiante estudiará inicialemente en la modalidad EAD.\n",
        "\n",
        "Definiremos una llave llamada `'modalidad'` con el valor `'EAD'`."
      ],
      "metadata": {
        "id": "wB0qRb56mQvv"
      }
    },
    {
      "cell_type": "code",
      "source": [],
      "metadata": {
        "id": "EeLYdlIm8d8a"
      },
      "execution_count": null,
      "outputs": []
    },
    {
      "cell_type": "code",
      "source": [],
      "metadata": {
        "id": "olDIavsm8d_o"
      },
      "execution_count": null,
      "outputs": []
    },
    {
      "cell_type": "markdown",
      "source": [
        "## Profundizando en diccionarios"
      ],
      "metadata": {
        "id": "LJ3o_inroxg_"
      }
    },
    {
      "cell_type": "markdown",
      "source": [
        "#### [`pop()`](https://python-reference.readthedocs.io/en/latest/docs/dict/pop.html)\n",
        "Remueve un item de un diccionario y lo representa en la salida."
      ],
      "metadata": {
        "id": "2N3GLlkSpBiu"
      }
    },
    {
      "cell_type": "code",
      "source": [],
      "metadata": {
        "id": "ZsSCZx6G8b-T"
      },
      "execution_count": null,
      "outputs": []
    },
    {
      "cell_type": "code",
      "source": [],
      "metadata": {
        "id": "7lQ8_jpi8cBR"
      },
      "execution_count": null,
      "outputs": []
    },
    {
      "cell_type": "markdown",
      "source": [
        "#### [`items()`](https://python-reference.readthedocs.io/en/latest/docs/dict/items.html)\n",
        "Retorna una lista de pares `llave-valor` del diccionario."
      ],
      "metadata": {
        "id": "sYZGvJJYrW_y"
      }
    },
    {
      "cell_type": "code",
      "source": [],
      "metadata": {
        "id": "ncdycLV08an7"
      },
      "execution_count": null,
      "outputs": []
    },
    {
      "cell_type": "markdown",
      "source": [
        "#### [`keys()`](https://python-reference.readthedocs.io/en/latest/docs/dict/keys.html)\n",
        "Retorna una lista de las llaves del diccionario."
      ],
      "metadata": {
        "id": "Lb0utNFGrZBY"
      }
    },
    {
      "cell_type": "code",
      "source": [],
      "metadata": {
        "id": "eZo0biaM8ZVs"
      },
      "execution_count": null,
      "outputs": []
    },
    {
      "cell_type": "markdown",
      "source": [
        "#### [`values()`](https://python-reference.readthedocs.io/en/latest/docs/dict/values.html)\n",
        "Retorna una lista de los valores del diccionario."
      ],
      "metadata": {
        "id": "qKyu3bf9rbtX"
      }
    },
    {
      "cell_type": "code",
      "source": [],
      "metadata": {
        "id": "-NxRT9C18Yvo"
      },
      "execution_count": null,
      "outputs": []
    },
    {
      "cell_type": "markdown",
      "source": [
        "### Lectura de valores con el lazo `for`"
      ],
      "metadata": {
        "id": "e3XVjR8Frp75"
      }
    },
    {
      "cell_type": "code",
      "source": [],
      "metadata": {
        "id": "NYcjU-Ip8Xan"
      },
      "execution_count": null,
      "outputs": []
    },
    {
      "cell_type": "code",
      "source": [],
      "metadata": {
        "id": "aAnpP1Wv8XfJ"
      },
      "execution_count": null,
      "outputs": []
    }
  ]
}